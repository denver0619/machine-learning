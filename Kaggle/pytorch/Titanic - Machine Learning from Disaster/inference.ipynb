{
 "cells": [
  {
   "cell_type": "code",
   "execution_count": 124,
   "metadata": {},
   "outputs": [],
   "source": [
    "import torch\n",
    "import torch.nn as nn\n",
    "import torch.optim as optim\n",
    "from torch.utils.data import Dataset, DataLoader\n",
    "import csv\n",
    "import numpy as np\n",
    "import torch_directml\n",
    "from tqdm import tqdm\n",
    "\n",
    "dml = torch_directml.device()"
   ]
  },
  {
   "cell_type": "code",
   "execution_count": 125,
   "metadata": {},
   "outputs": [],
   "source": [
    "# datasets\n",
    "\n",
    "class TitanicSurvivalDataset(Dataset):\n",
    "    def __init__(self, data_tensor: torch.Tensor, target_tensor: torch.Tensor):\n",
    "        self.data = data_tensor\n",
    "        self.target = target_tensor\n",
    "\n",
    "    def __len__(self):\n",
    "        return len(self.data)\n",
    "\n",
    "    def __getitem__(self, index):\n",
    "        return self.data.data[index], self.target.data[index]"
   ]
  },
  {
   "cell_type": "code",
   "execution_count": 126,
   "metadata": {},
   "outputs": [],
   "source": [
    "# functions for converting data\n",
    "MAXLENGTH = 1000\n",
    "\n",
    "def add_padding(list_item, max=500):\n",
    "    result = list_item\n",
    "    while len(result) < max:\n",
    "        result.append(0)\n",
    "    return result\n",
    "\n",
    "def list_string_to_ascii(train_list):\n",
    "    result = []\n",
    "    for train in train_list:\n",
    "        # print(train)\n",
    "        temp = []\n",
    "        for i, item in enumerate(train):\n",
    "            current_item = []\n",
    "            # print(i, item)\n",
    "            if (i != 2):\n",
    "                for char in item:\n",
    "                    current_item.append(ord(char))\n",
    "                \n",
    "                current_item = add_padding(current_item, 40)\n",
    "            else:\n",
    "                for char in item:\n",
    "                    current_item.append(ord(char))\n",
    "                current_item = add_padding(current_item, 250)\n",
    "            current_item.append(-1)\n",
    "            temp = temp + current_item\n",
    "        add_padding(temp, MAXLENGTH)\n",
    "        result.append(temp)\n",
    "    return result"
   ]
  },
  {
   "cell_type": "code",
   "execution_count": 127,
   "metadata": {},
   "outputs": [],
   "source": [
    "class TitanicSurvivalDatasetTest(Dataset):\n",
    "    def __init__(self, test_tensor: torch.Tensor):\n",
    "        self.data = test_tensor\n",
    "\n",
    "    def __len__(self):\n",
    "        return len(self.data)\n",
    "\n",
    "    def __getitem__(self, index):\n",
    "        return self.data.data[index]"
   ]
  },
  {
   "cell_type": "code",
   "execution_count": 128,
   "metadata": {},
   "outputs": [],
   "source": [
    "# reading and converting file contents into tensor\n",
    "\n",
    "def read_csv(csv_file):\n",
    "    temp = list(csv.reader(csv_file, delimiter=\",\"))\n",
    "    del temp[0]\n",
    "    return temp\n",
    "\n",
    "def remove_id(list_file):\n",
    "    result = []\n",
    "    for item in list_file:\n",
    "        result.append(int(item[1]))\n",
    "    return result"
   ]
  },
  {
   "cell_type": "code",
   "execution_count": 129,
   "metadata": {},
   "outputs": [],
   "source": [
    "\n",
    "\n",
    "test_file = open(\"test.csv\", \"r\")\n",
    "target_file = open(\"gender_submission.csv\", \"r\")\n",
    "\n",
    "test_list_initial = read_csv(test_file)\n",
    "target_list_initial = read_csv(target_file)\n",
    "\n",
    "\n",
    "test_list = test_list_initial\n",
    "target_list = remove_id(target_list_initial)\n",
    "\n",
    "\n",
    "test_ascii = list_string_to_ascii(test_list)\n",
    "\n",
    "test_tensor = torch.FloatTensor(test_ascii)\n",
    "\n",
    "test_dataset = TitanicSurvivalDatasetTest(test_tensor)\n",
    "\n",
    "\n",
    "# test_loader = DataLoader(dataset=test_dataset, batch_size=32, shuffle=False)"
   ]
  },
  {
   "cell_type": "code",
   "execution_count": 130,
   "metadata": {},
   "outputs": [],
   "source": [
    "class SurvivedModel(nn.Module):\n",
    "    def __init__(self, MAXLENGTH=1000):\n",
    "        super(SurvivedModel, self).__init__()\n",
    "        self.layer1 = nn.Linear(MAXLENGTH, 48)\n",
    "        self.layer2 = nn.Linear(48, 1)\n",
    "        self.sigmoid = nn.Sigmoid()\n",
    "        pass\n",
    "\n",
    "    def forward(self, x):\n",
    "        x = self.sigmoid(self.layer1(x))\n",
    "        x = self.layer2(x)\n",
    "        x = self.sigmoid(x)\n",
    "        return x"
   ]
  },
  {
   "cell_type": "code",
   "execution_count": 131,
   "metadata": {},
   "outputs": [
    {
     "name": "stderr",
     "output_type": "stream",
     "text": [
      "Test data: 100%|██████████| 418/418 [00:00<00:00, 9606.73it/s]"
     ]
    },
    {
     "name": "stdout",
     "output_type": "stream",
     "text": [
      "Accuracy:  0.916267942583732\n"
     ]
    },
    {
     "name": "stderr",
     "output_type": "stream",
     "text": [
      "\n"
     ]
    }
   ],
   "source": [
    "path = \"survived_model.pt\"\n",
    "\n",
    "survived_model: SurvivedModel = torch.load(path)\n",
    "\n",
    "def binary_output(output, minimum_threshold = 0.5):\n",
    "    return 1 if (output>minimum_threshold) else 0\n",
    "\n",
    "def check_accuracy(list1, list2):\n",
    "    total = len(list1)\n",
    "    correct = 0\n",
    "    for i in range(total):\n",
    "        if (list1[i] == list2[i]):\n",
    "            correct=correct+1\n",
    "    return correct / total\n",
    "\n",
    "result = []\n",
    "def start_inference():\n",
    "    survived_model.eval()\n",
    "    for person in tqdm(test_dataset, desc=\"Test data\"):\n",
    "        person = person\n",
    "        output: torch.Tensor = survived_model(person)\n",
    "        result.append(binary_output(output.item(), 0.5))\n",
    "    return result\n",
    "\n",
    "start_inference()\n",
    "print(\"Accuracy: \", check_accuracy(result, target_list))"
   ]
  },
  {
   "cell_type": "code",
   "execution_count": 132,
   "metadata": {},
   "outputs": [],
   "source": [
    "# save submission\n",
    "file = open(\"jdrlaurian_submission.csv\", 'w')\n",
    "\n",
    "writer = csv.writer(file)\n",
    "\n",
    "header = [\"PassengerId\", \"Survived\"]\n",
    "\n",
    "writer.writerow(header)\n",
    "\n",
    "for i in range(len(test_list)):\n",
    "    writer.writerow([test_list[i][0], result[i]])\n"
   ]
  }
 ],
 "metadata": {
  "kernelspec": {
   "display_name": "pytorch-directml-env",
   "language": "python",
   "name": "python3"
  },
  "language_info": {
   "codemirror_mode": {
    "name": "ipython",
    "version": 3
   },
   "file_extension": ".py",
   "mimetype": "text/x-python",
   "name": "python",
   "nbconvert_exporter": "python",
   "pygments_lexer": "ipython3",
   "version": "3.10.13"
  }
 },
 "nbformat": 4,
 "nbformat_minor": 2
}
